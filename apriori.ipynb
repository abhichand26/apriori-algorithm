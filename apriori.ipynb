{
 "cells": [
  {
   "cell_type": "code",
   "execution_count": 180,
   "metadata": {},
   "outputs": [],
   "source": [
    "import numpy as np\n",
    "import itertools"
   ]
  },
  {
   "cell_type": "code",
   "execution_count": 181,
   "metadata": {},
   "outputs": [],
   "source": [
    "fname = \"GroceryStoreDataSet.csv\""
   ]
  },
  {
   "cell_type": "code",
   "execution_count": 182,
   "metadata": {},
   "outputs": [],
   "source": [
    "def getSubsets(L, n): \n",
    "    s = []\n",
    "    for i in itertools.combinations(L, n):\n",
    "        s.append(frozenset(i))\n",
    "    return s"
   ]
  },
  {
   "cell_type": "code",
   "execution_count": 183,
   "metadata": {},
   "outputs": [],
   "source": [
    "def check(L, x):\n",
    "    n = len(x) - 1\n",
    "    s = getSubsets(x, n)\n",
    "    for i in s:\n",
    "        if (i not in L):\n",
    "            return False\n",
    "    return True"
   ]
  },
  {
   "cell_type": "code",
   "execution_count": 184,
   "metadata": {},
   "outputs": [],
   "source": [
    "def candidate1(fname):\n",
    "    f = open(fname, \"rt\")\n",
    "    cList = {}\n",
    "    nt = 0\n",
    "    for line in f.readlines():\n",
    "        nt += 1\n",
    "        line = line.strip()\n",
    "        line = line.strip('\"')\n",
    "        line = line.split(',')\n",
    "        for item in line:\n",
    "            i = cList.get(item, 0)\n",
    "            if (i == 0):\n",
    "                cList[item] = 1\n",
    "                continue\n",
    "            cList[item] += 1\n",
    "    return cList, nt"
   ]
  },
  {
   "cell_type": "code",
   "execution_count": 185,
   "metadata": {},
   "outputs": [],
   "source": [
    "def frequent(cList, nt, sup):\n",
    "    fList = []\n",
    "    for item in cList:\n",
    "        if (cList[item]/nt >= sup):\n",
    "              fList.append(item)\n",
    "    return fList"
   ]
  },
  {
   "cell_type": "code",
   "execution_count": 186,
   "metadata": {},
   "outputs": [],
   "source": [
    "def generateCandidate(L):\n",
    "    cList = []\n",
    "    n = len(L[0])\n",
    "    m = len(L)\n",
    "    for i in range(m):\n",
    "        for j in range(i+1, m): \n",
    "            temp1 = list(L[i])[:n-1]\n",
    "            temp2 = list(L[j])[:n-1] \n",
    "            temp1.sort() \n",
    "            temp2.sort()\n",
    "            if (temp1 == temp2):\n",
    "                new = (L[i] | L[j])\n",
    "                new = frozenset(new)\n",
    "                if (check(L, new)):\n",
    "                    cList.append(new)\n",
    "    return cList"
   ]
  },
  {
   "cell_type": "code",
   "execution_count": 187,
   "metadata": {},
   "outputs": [],
   "source": [
    "def getCandidates(fname, L):\n",
    "    LT = L[:]\n",
    "    f = open(fname,\"rt\")\n",
    "    cList = {}\n",
    "    n = len(LT[0])\n",
    "    for line in f.readlines():\n",
    "        line = line.strip()\n",
    "        line = line.replace('\"','')\n",
    "        temp = line.split(',')\n",
    "        s = getSubsets(temp, n)\n",
    "        for i in LT:\n",
    "            if (i in s):\n",
    "                count = cList.get(i,0)\n",
    "                cList[i] = count+1\n",
    "    return cList"
   ]
  },
  {
   "cell_type": "code",
   "execution_count": 188,
   "metadata": {},
   "outputs": [],
   "source": [
    "def apriori(fname, sup = 0.4):\n",
    "    freqSet = {}\n",
    "    C1, n = candidate1(fname)\n",
    "    L1 = frequent(C1, n, sup)\n",
    "    for i in L1:\n",
    "        freqSet[frozenset({i})] = C1[i]\n",
    "    C2 = getSubsets(L1, 2)\n",
    "    while len(C2) != 0:\n",
    "        C = getCandidates(fname, C2)\n",
    "        L2 = frequent(C, n, sup)\n",
    "        if (len(L2) == 0):\n",
    "            break\n",
    "        for i in L2:\n",
    "            freqSet[i] = C[i]\n",
    "        C2 = generateCandidate(L2)\n",
    "    return freqSet, n"
   ]
  },
  {
   "cell_type": "code",
   "execution_count": 189,
   "metadata": {},
   "outputs": [],
   "source": [
    "def discoverRules(freqSet, confidence = 0.6):\n",
    "    rules = {}\n",
    "    conL = []\n",
    "    supL = []\n",
    "    for key in freqSet.keys():\n",
    "        if len(key) == 1:\n",
    "            continue\n",
    "        n = len(key)\n",
    "        for k in range(1, n):\n",
    "            s = list(itertools.combinations(key, k))\n",
    "            for i in s:\n",
    "                if (freqSet[key]/freqSet[key-frozenset(i)]) >= confidence:\n",
    "                    rules[key-frozenset(i)] = frozenset(i)\n",
    "                    conL.append(freqSet[key]/freqSet[key-frozenset(i)])\n",
    "                    supL.append(freqSet[key])\n",
    "    return rules, conL, supL"
   ]
  },
  {
   "cell_type": "code",
   "execution_count": 190,
   "metadata": {},
   "outputs": [],
   "source": [
    "freq, nt = apriori(fname, 0.15)"
   ]
  },
  {
   "cell_type": "code",
   "execution_count": 191,
   "metadata": {},
   "outputs": [
    {
     "data": {
      "text/plain": [
       "{frozenset({'MILK'}): 5,\n",
       " frozenset({'BREAD'}): 13,\n",
       " frozenset({'BISCUIT'}): 7,\n",
       " frozenset({'CORNFLAKES'}): 6,\n",
       " frozenset({'TEA'}): 7,\n",
       " frozenset({'BOURNVITA'}): 4,\n",
       " frozenset({'MAGGI'}): 5,\n",
       " frozenset({'COFFEE'}): 8,\n",
       " frozenset({'CANDY'}): 3,\n",
       " frozenset({'SUGER'}): 6,\n",
       " frozenset({'BREAD', 'MILK'}): 4,\n",
       " frozenset({'BISCUIT', 'BREAD'}): 4,\n",
       " frozenset({'BISCUIT', 'CORNFLAKES'}): 3,\n",
       " frozenset({'BREAD', 'TEA'}): 4,\n",
       " frozenset({'BOURNVITA', 'BREAD'}): 3,\n",
       " frozenset({'BREAD', 'MAGGI'}): 3,\n",
       " frozenset({'MAGGI', 'TEA'}): 4,\n",
       " frozenset({'COFFEE', 'CORNFLAKES'}): 4,\n",
       " frozenset({'CANDY', 'COFFEE'}): 3,\n",
       " frozenset({'COFFEE', 'SUGER'}): 4,\n",
       " frozenset({'BREAD', 'COFFEE'}): 3,\n",
       " frozenset({'BREAD', 'SUGER'}): 4}"
      ]
     },
     "execution_count": 191,
     "metadata": {},
     "output_type": "execute_result"
    }
   ],
   "source": [
    "freq"
   ]
  },
  {
   "cell_type": "code",
   "execution_count": 192,
   "metadata": {},
   "outputs": [],
   "source": [
    "def runAlgorithm(fname):    \n",
    "    freqSet, nt = apriori(fname, 0.15)\n",
    "    rules, conL, supL = discoverRules(freqSet, 0.6)\n",
    "    j = 0\n",
    "    for i in rules:\n",
    "        print(set(i), \"-->\", set(rules[i]), \" with confidence = \", conL[j], \" and support = \", supL[j]/nt)\n",
    "        j += 1"
   ]
  },
  {
   "cell_type": "code",
   "execution_count": 193,
   "metadata": {},
   "outputs": [
    {
     "name": "stdout",
     "output_type": "stream",
     "text": [
      "{'MILK'} --> {'BREAD'}  with confidence =  0.8  and support =  0.2\n",
      "{'BOURNVITA'} --> {'BREAD'}  with confidence =  0.75  and support =  0.15\n",
      "{'MAGGI'} --> {'TEA'}  with confidence =  0.6  and support =  0.15\n",
      "{'CORNFLAKES'} --> {'COFFEE'}  with confidence =  0.8  and support =  0.2\n",
      "{'CANDY'} --> {'COFFEE'}  with confidence =  0.6666666666666666  and support =  0.2\n",
      "{'SUGER'} --> {'BREAD'}  with confidence =  1.0  and support =  0.15\n"
     ]
    }
   ],
   "source": [
    "runAlgorithm(fname)"
   ]
  },
  {
   "cell_type": "code",
   "execution_count": null,
   "metadata": {},
   "outputs": [],
   "source": []
  }
 ],
 "metadata": {
  "kernelspec": {
   "display_name": "Python 3",
   "language": "python",
   "name": "python3"
  },
  "language_info": {
   "codemirror_mode": {
    "name": "ipython",
    "version": 3
   },
   "file_extension": ".py",
   "mimetype": "text/x-python",
   "name": "python",
   "nbconvert_exporter": "python",
   "pygments_lexer": "ipython3",
   "version": "3.6.8"
  }
 },
 "nbformat": 4,
 "nbformat_minor": 4
}
